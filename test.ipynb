{
 "cells": [
  {
   "cell_type": "code",
   "execution_count": 16,
   "metadata": {
    "collapsed": true
   },
   "outputs": [
    {
     "name": "stdout",
     "output_type": "stream",
     "text": [
      "1\n"
     ]
    }
   ],
   "source": [
    "arr = [7,5,6]\n",
    "def get_partition(arr,i,j):\n",
    "    nums = arr[i:]\n",
    "    left,right = 0,len(nums)-1\n",
    "    pivot = nums[left]\n",
    "    while left<right:\n",
    "        while left<right and nums[left]<=pivot:left+=1\n",
    "        while left<right and nums[right]>=pivot:right-=1\n",
    "        if left<right:nums[left],nums[right] = nums[right],nums[left]\n",
    "    return left-1 if left>=1 else 0\n",
    "\n",
    "\n",
    "def get_rever_num(arr):\n",
    "    res = 0\n",
    "    for i,num in enumerate(arr):\n",
    "        res += get_partition(arr,i,len(arr)-1)\n",
    "    return res\n",
    "\n",
    "print(get_rever_num(arr))"
   ]
  },
  {
   "cell_type": "code",
   "execution_count": 15,
   "outputs": [
    {
     "name": "stdout",
     "output_type": "stream",
     "text": [
      "1\n",
      "2\n",
      "3\n",
      "4\n",
      "5\n"
     ]
    }
   ],
   "source": [
    "class Node:\n",
    "    def __init__(self,val):\n",
    "        self.val = val\n",
    "        self.next = None\n",
    "\n",
    "\n",
    "# 1-2-3-4\n",
    "def reverse(head,tail):\n",
    "        pre = head\n",
    "        cur = pre.next\n",
    "        while cur!=tail.next:\n",
    "            nxt = cur.next\n",
    "            cur.next = pre\n",
    "            pre = cur\n",
    "            cur = nxt\n",
    "        return tail,head\n",
    "\n",
    "\n",
    "def reverseM2N(head,m,n):\n",
    "    def reverse(head,tail):\n",
    "        pre = head\n",
    "        cur = pre.next\n",
    "        while cur!=tail.next:\n",
    "            nxt = cur.next\n",
    "            cur.next = pre\n",
    "            pre = cur\n",
    "            cur = nxt\n",
    "        return tail,head\n",
    "    dummy = Node(-1)\n",
    "    dummy.next = head\n",
    "    node = dummy\n",
    "    l1,l2,l3,l4 = Node(-1),Node(-1),Node(-1),Node(-1)\n",
    "    for i in range(m):\n",
    "        l1 = node\n",
    "        node = node.next\n",
    "        l2 = node\n",
    "    for j in range(n-m):\n",
    "        l3 = node\n",
    "        node = node.next\n",
    "        l4 = node\n",
    "    l2,l3 = reverse(l2,l3)\n",
    "    l1.next,l2.next = l3,l4\n",
    "    return dummy.next\n",
    "\n",
    "\n",
    "head = Node(1)\n",
    "node = head\n",
    "\n",
    "for i in range(2,6):\n",
    "    node.next = Node(i)\n",
    "    node = node.next\n",
    "\n",
    "res = reverseM2N(head,2,3)\n",
    "while res:\n",
    "    print(res.val)\n",
    "    res = res.next"
   ],
   "metadata": {
    "collapsed": false,
    "pycharm": {
     "name": "#%%\n"
    }
   }
  },
  {
   "cell_type": "code",
   "execution_count": null,
   "outputs": [],
   "source": [
    "1440,2\n",
    "# 1\n",
    "order = []\n",
    "presum  = 0\n",
    "for i in range(1440):\n",
    "    presum += order[i]\n",
    "\n",
    "# 1. 找到订单量最大的区间\n",
    "one_hour_order = []\n",
    "for j in range(60,1440):\n",
    "    one_hour_order.append(presum[j]-presum[j-60])\n",
    "one_hour_order_max = max(one_hour_order)\n",
    "# 2. 找到最大一小时订单对应的时间起始\n",
    "\n",
    "# 3. 找到次大一小时订单（不重叠）\n",
    "\n",
    "# 对one_hour_order进行过滤  大于次大，小于最大\n",
    "\n",
    "\n",
    "5 1   4+3  2+4\n",
    "\n",
    "#  两两组合求最大值，且保证不重叠\n",
    "ind_max\n",
    "one_hour_order_second = max(max)\n",
    "\n",
    "# 2. 找到订单量次大的区间\n",
    "\n",
    "\n",
    "\n",
    "#  excutores  memeory cores tasks  paralisim\n",
    "\n",
    "\n",
    "take  collect\n",
    "#"
   ],
   "metadata": {
    "collapsed": false,
    "pycharm": {
     "name": "#%%\n"
    }
   }
  },
  {
   "cell_type": "code",
   "execution_count": 3,
   "outputs": [
    {
     "name": "stdout",
     "output_type": "stream",
     "text": [
      "True\n"
     ]
    }
   ],
   "source": [
    "a = 10\n",
    "b = 10\n",
    "print(a is b)"
   ],
   "metadata": {
    "collapsed": false,
    "pycharm": {
     "name": "#%%\n"
    }
   }
  },
  {
   "cell_type": "code",
   "execution_count": null,
   "outputs": [],
   "source": [],
   "metadata": {
    "collapsed": false,
    "pycharm": {
     "name": "#%%\n"
    }
   }
  },
  {
   "cell_type": "code",
   "execution_count": null,
   "outputs": [],
   "source": [
    "# m + n\n",
    "def find_x(x,matrix):\n",
    "    m,n = len(matrix),len(matrix[0])\n",
    "    if m == 0 or n == 0:return False\n",
    "    i,j = m-1, 0\n",
    "    while i>=0 and j< n:\n",
    "        if matrix[i][j] > x:\n",
    "            i -= 1\n",
    "        elif matrix[i][j] < x:\n",
    "            j += 1\n",
    "        else:\n",
    "            return True\n",
    "    return False"
   ],
   "metadata": {
    "collapsed": false,
    "pycharm": {
     "name": "#%%\n"
    }
   }
  },
  {
   "cell_type": "code",
   "execution_count": null,
   "outputs": [],
   "source": [
    "# 环形 任意两个相邻不能偷 max_profit\n",
    "def steal_max_gain(graph,edge):\n",
    "    res = 0\n",
    "    def dfs(cur,tmp,vis):\n",
    "        nonlocal res\n",
    "        if vis[cur]:return\n",
    "        tmp += edge[cur]\n",
    "        if tmp > res:\n",
    "            res = tmp\n",
    "        vis[cur] = True\n",
    "        for neighbor in graph[cur]:\n",
    "            for neighbor_next in graph[neighbor]:\n",
    "                dfs(neighbor_next,tmp,vis)\n",
    "        vis[cur] = False\n",
    "        tmp -= cur\n",
    "    for cur in range(len(graph)):\n",
    "        dfs(cur,0,[False]*len(graph))\n",
    "    return res\n",
    "\n",
    "# 1 0 0 甲\n",
    "# 0 0 1 乙\n",
    "\n",
    "\n"
   ],
   "metadata": {
    "collapsed": false,
    "pycharm": {
     "name": "#%%\n"
    }
   }
  }
 ],
 "metadata": {
  "kernelspec": {
   "display_name": "Python 3",
   "language": "python",
   "name": "python3"
  },
  "language_info": {
   "codemirror_mode": {
    "name": "ipython",
    "version": 2
   },
   "file_extension": ".py",
   "mimetype": "text/x-python",
   "name": "python",
   "nbconvert_exporter": "python",
   "pygments_lexer": "ipython2",
   "version": "2.7.6"
  }
 },
 "nbformat": 4,
 "nbformat_minor": 0
}