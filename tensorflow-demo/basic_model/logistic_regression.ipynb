{
 "cells": [
  {
   "cell_type": "code",
   "execution_count": 19,
   "metadata": {
    "collapsed": true
   },
   "outputs": [],
   "source": [
    "from __future__ import absolute_import,division,print_function\n",
    "\n",
    "import tensorflow as tf\n",
    "import numpy as np"
   ]
  },
  {
   "cell_type": "code",
   "execution_count": 20,
   "outputs": [
    {
     "data": {
      "text/plain": "'2.8.0'"
     },
     "execution_count": 20,
     "metadata": {},
     "output_type": "execute_result"
    }
   ],
   "source": [
    "tf.__version__"
   ],
   "metadata": {
    "collapsed": false,
    "pycharm": {
     "name": "#%%\n"
    }
   }
  },
  {
   "cell_type": "code",
   "execution_count": 2,
   "outputs": [],
   "source": [
    "# MINIST dataset parameters\n",
    "num_classes = 10   # 0 to 9 digits\n",
    "num_features = 784 # 28*28\n",
    "\n",
    "# Training parameters\n",
    "leaning_rate = 0.01\n",
    "train_steps = 1000\n",
    "batch_size = 256\n",
    "display_step = 50"
   ],
   "metadata": {
    "collapsed": false,
    "pycharm": {
     "name": "#%%\n"
    }
   }
  },
  {
   "cell_type": "code",
   "execution_count": 6,
   "outputs": [],
   "source": [
    "# Prepare MINIST data\n",
    "mnist = tf.keras.datasets.mnist\n",
    "(x_train, y_train), (x_test, y_test) = mnist.load_data()\n",
    "# Convert to float32\n",
    "x_train,x_test = np.array(x_train,np.float32),np.array(x_test,np.float32)\n",
    "# Flatten images to 1-D vector of 784 features(28*28)\n",
    "x_train,x_test = x_train.reshape([-1,num_features]),x_test.reshape([-1,num_features])\n",
    "# Normalize images value from [0,255] to [0,1]\n",
    "x_train,x_test = x_train/255.,x_test/255."
   ],
   "metadata": {
    "collapsed": false,
    "pycharm": {
     "name": "#%%\n"
    }
   }
  },
  {
   "cell_type": "code",
   "execution_count": null,
   "outputs": [],
   "source": [
    "# Use tf.data API to shuffle and batch data\n",
    "train_data = tf.data.Dataset.from_tensor_slices((x_train,y_train))\n",
    "train_data = train_data.repeat().shuffle(5000).batch((batch_size)).prefetch(1)"
   ],
   "metadata": {
    "collapsed": false,
    "pycharm": {
     "name": "#%%\n",
     "is_executing": true
    }
   }
  },
  {
   "cell_type": "code",
   "execution_count": 8,
   "outputs": [],
   "source": [
    "# Weight of shape[784,10], the 28*28 image features and total number of classes\n",
    "W = tf.Variable(tf.ones([num_features,num_classes]),name=\"weight\")\n",
    "# Bias fo shape[10],the total number of classes\n",
    "b = tf.Variable(tf.zeros([num_classes]),name=\"bias\")\n",
    "\n",
    "# Logistic regression (Wx+b)\n",
    "def logistic_regression(x):\n",
    "    #Apply to softmax to normalize the logits to a probability distribution\n",
    "    return tf.nn.softmax(tf.matmul(x,W)+b)\n",
    "\n",
    "# Cross-Entropy loss function\n",
    "def cross_entropy(y_pred,y_true):\n",
    "    y_true = tf.one_hot(y_true,depth=num_classes)\n",
    "    y_pred = tf.clip_by_value(y_pred,1e-9,1.)\n",
    "    return tf.reduce_mean(-tf.reduce_sum(y_true*tf.math.log(y_pred),1))\n",
    "\n",
    "#Accuracy metric\n",
    "def accuracy(y_pred,y_true):\n",
    "    # Predicted class is the index of highest score in prediction vector\n",
    "    correcr_prediction = tf.equal(tf.argmax(y_pred,1),tf.cast(y_true,tf.int64))\n",
    "    return tf.reduce_mean(tf.cast(correcr_prediction,tf.float32))\n",
    "\n",
    "optimizer = tf.optimizers.SGD(leaning_rate)"
   ],
   "metadata": {
    "collapsed": false,
    "pycharm": {
     "name": "#%%\n"
    }
   }
  },
  {
   "cell_type": "code",
   "execution_count": 9,
   "outputs": [],
   "source": [
    "#Optimization process\n",
    "def run_optimation(x,y):\n",
    "    #Wrap computation inside a GradientTape for automatic differentiation\n",
    "    with tf.GradientTape() as g:\n",
    "        pred = logistic_regression(x)\n",
    "        loss = cross_entropy(pred,y)\n",
    "    #Compute gradients\n",
    "    gradients = g.gradient(loss,[W,b])\n",
    "    #Update W and b following gradients\n",
    "    optimizer.apply_gradients(zip(gradients,[W,b]))"
   ],
   "metadata": {
    "collapsed": false,
    "pycharm": {
     "name": "#%%\n"
    }
   }
  },
  {
   "cell_type": "code",
   "execution_count": 10,
   "outputs": [
    {
     "name": "stderr",
     "output_type": "stream",
     "text": [
      "2022-03-18 17:05:46.597797: W tensorflow/core/framework/cpu_allocator_impl.cc:82] Allocation of 188160000 exceeds 10% of free system memory.\n"
     ]
    },
    {
     "name": "stdout",
     "output_type": "stream",
     "text": [
      "strp: 50, loss: 1.858646, accuracy: 0.753906\n",
      "strp: 100, loss: 1.528719, accuracy: 0.789062\n",
      "strp: 150, loss: 1.362602, accuracy: 0.808594\n",
      "strp: 200, loss: 1.213817, accuracy: 0.757812\n",
      "strp: 250, loss: 1.037258, accuracy: 0.820312\n",
      "strp: 300, loss: 0.957408, accuracy: 0.824219\n",
      "strp: 350, loss: 0.957840, accuracy: 0.828125\n",
      "strp: 400, loss: 0.922535, accuracy: 0.808594\n",
      "strp: 450, loss: 0.803293, accuracy: 0.867188\n",
      "strp: 500, loss: 0.808286, accuracy: 0.824219\n",
      "strp: 550, loss: 0.741705, accuracy: 0.839844\n",
      "strp: 600, loss: 0.709884, accuracy: 0.855469\n",
      "strp: 650, loss: 0.786293, accuracy: 0.820312\n",
      "strp: 700, loss: 0.658282, accuracy: 0.878906\n",
      "strp: 750, loss: 0.696682, accuracy: 0.855469\n",
      "strp: 800, loss: 0.756981, accuracy: 0.820312\n",
      "strp: 850, loss: 0.635660, accuracy: 0.843750\n",
      "strp: 900, loss: 0.632496, accuracy: 0.859375\n",
      "strp: 950, loss: 0.604988, accuracy: 0.859375\n",
      "strp: 1000, loss: 0.534821, accuracy: 0.898438\n"
     ]
    }
   ],
   "source": [
    "for step,(batch_x,batch_y) in enumerate(train_data.take(train_steps),1):\n",
    "    run_optimation(batch_x,batch_y)\n",
    "\n",
    "    if step%display_step==0:\n",
    "        pred = logistic_regression(batch_x)\n",
    "        loss = cross_entropy(pred,batch_y)\n",
    "        acc = accuracy(pred,batch_y)\n",
    "        print('strp: %i, loss: %f, accuracy: %f'%(step,loss,acc))"
   ],
   "metadata": {
    "collapsed": false,
    "pycharm": {
     "name": "#%%\n"
    }
   }
  },
  {
   "cell_type": "code",
   "execution_count": 12,
   "outputs": [
    {
     "data": {
      "text/plain": "<Figure size 432x288 with 1 Axes>",
      "image/png": "[encoded data removed]"
     },
     "metadata": {
      "needs_background": "light"
     },
     "output_type": "display_data"
    },
    {
     "name": "stdout",
     "output_type": "stream",
     "text": [
      "Model prediction: 7\n"
     ]
    },
    {
     "data": {
      "text/plain": "<Figure size 432x288 with 1 Axes>",
      "image/png": "[encoded data removed]"
     },
     "metadata": {
      "needs_background": "light"
     },
     "output_type": "display_data"
    },
    {
     "name": "stdout",
     "output_type": "stream",
     "text": [
      "Model prediction: 2\n"
     ]
    },
    {
     "data": {
      "text/plain": "<Figure size 432x288 with 1 Axes>",
      "image/png": "[encoded data removed]"
     },
     "metadata": {
      "needs_background": "light"
     },
     "output_type": "display_data"
    },
    {
     "name": "stdout",
     "output_type": "stream",
     "text": [
      "Model prediction: 1\n"
     ]
    },
    {
     "data": {
      "text/plain": "<Figure size 432x288 with 1 Axes>",
      "image/png": "[encoded data removed]"
     },
     "metadata": {
      "needs_background": "light"
     },
     "output_type": "display_data"
    },
    {
     "name": "stdout",
     "output_type": "stream",
     "text": [
      "Model prediction: 0\n"
     ]
    },
    {
     "data": {
      "text/plain": "<Figure size 432x288 with 1 Axes>",
      "image/png": "[encoded data removed]"
     },
     "metadata": {
      "needs_background": "light"
     },
     "output_type": "display_data"
    },
    {
     "name": "stdout",
     "output_type": "stream",
     "text": [
      "Model prediction: 4\n"
     ]
    }
   ],
   "source": [
    "import matplotlib.pyplot as plt\n",
    "\n",
    "# Predict 5 images from validation set\n",
    "n_images = 5\n",
    "test_images = x_test[:n_images]\n",
    "predictions = logistic_regression(test_images)\n",
    "\n",
    "#Display image and  model prediction\n",
    "for i in range(n_images):\n",
    "    plt.imshow(np.reshape(test_images[i],[28,28]),cmap='gray')\n",
    "    plt.show()\n",
    "    print(\"Model prediction: %i\"%np.argmax(predictions.numpy()[i]))"
   ],
   "metadata": {
    "collapsed": false,
    "pycharm": {
     "name": "#%%\n"
    }
   }
  }
 ],
 "metadata": {
  "kernelspec": {
   "display_name": "Python 3",
   "language": "python",
   "name": "python3"
  },
  "language_info": {
   "codemirror_mode": {
    "name": "ipython",
    "version": 2
   },
   "file_extension": ".py",
   "mimetype": "text/x-python",
   "name": "python",
   "nbconvert_exporter": "python",
   "pygments_lexer": "ipython2",
   "version": "2.7.6"
  }
 },
 "nbformat": 4,
 "nbformat_minor": 0
}