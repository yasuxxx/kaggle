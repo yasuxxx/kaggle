{
 "cells": [
  {
   "cell_type": "code",
   "execution_count": 19,
   "metadata": {
    "collapsed": true
   },
   "outputs": [],
   "source": [
    "from __future__ import absolute_import,division,print_function"
   ]
  },
  {
   "cell_type": "code",
   "execution_count": 20,
   "outputs": [],
   "source": [
    "import tensorflow as tf\n",
    "import numpy as np\n",
    "rng = np.random"
   ],
   "metadata": {
    "collapsed": false,
    "pycharm": {
     "name": "#%%\n"
    }
   }
  },
  {
   "cell_type": "code",
   "execution_count": 21,
   "outputs": [],
   "source": [
    "# Parameters\n",
    "learning_rate = 0.01\n",
    "training_steps = 1000\n",
    "display_step= 50"
   ],
   "metadata": {
    "collapsed": false,
    "pycharm": {
     "name": "#%%\n"
    }
   }
  },
  {
   "cell_type": "code",
   "execution_count": 22,
   "outputs": [],
   "source": [
    "# Training Data.\n",
    "X = np.array([3.3,4.4,5.5,6.71,6.93,4.168,9.779,6.182,7.59,2.167,\n",
    "              7.042,10.791,5.313,7.997,5.654,9.27,3.1])\n",
    "Y = np.array([1.7,2.76,2.09,3.19,1.694,1.573,3.366,2.596,2.53,1.221,\n",
    "              2.827,3.465,1.65,2.904,2.42,2.94,1.3])"
   ],
   "metadata": {
    "collapsed": false,
    "pycharm": {
     "name": "#%%\n"
    }
   }
  },
  {
   "cell_type": "code",
   "execution_count": 23,
   "outputs": [],
   "source": [
    "#Weight and Bias,initialized randomly\n",
    "W = tf.Variable(rng.randn(),name='Weight')\n",
    "b = tf.Variable(rng.randn(),name='bias')\n",
    "\n",
    "# Linear regression(Wx+b)\n",
    "def linear_regression(x):\n",
    "    return W*x+b\n",
    "\n",
    "#Mean square error\n",
    "def mean_square(y_pred,y_ture):\n",
    "    return tf.reduce_mean(tf.square(y_pred-y_ture))\n",
    "\n",
    "# Stochastic Gradient Descent Optimizer\n",
    "optimizer = tf.optimizers.SGD(learning_rate)"
   ],
   "metadata": {
    "collapsed": false,
    "pycharm": {
     "name": "#%%\n"
    }
   }
  },
  {
   "cell_type": "code",
   "execution_count": 24,
   "outputs": [],
   "source": [
    "# Optimization process\n",
    "def run_optimization():\n",
    "    #Wrap computation inside a GradientTape for automatic differentiation\n",
    "    with tf.GradientTape() as g:\n",
    "        pred = linear_regression(X)\n",
    "        loss = mean_square(pred,Y)\n",
    "    # Compute gradients\n",
    "    gradients = g.gradient(loss,[W,b])\n",
    "    # Update W and b following gradients\n",
    "    optimizer.apply_gradients(zip(gradients,[W,b]))"
   ],
   "metadata": {
    "collapsed": false,
    "pycharm": {
     "name": "#%%\n"
    }
   }
  },
  {
   "cell_type": "code",
   "execution_count": 25,
   "outputs": [
    {
     "name": "stdout",
     "output_type": "stream",
     "text": [
      "step: 50, loss: 1.229819, W: 0.667472, b: -2.149295\n",
      "step: 100, loss: 0.997652, W: 0.619885, b: -1.811927\n",
      "step: 150, loss: 0.815581, W: 0.577744, b: -1.513166\n",
      "step: 200, loss: 0.672797, W: 0.540425, b: -1.248593\n",
      "step: 250, loss: 0.560822, W: 0.507377, b: -1.014298\n",
      "step: 300, loss: 0.473009, W: 0.478111, b: -0.806814\n",
      "step: 350, loss: 0.404143, W: 0.452194, b: -0.623074\n",
      "step: 400, loss: 0.350138, W: 0.429243, b: -0.460360\n",
      "step: 450, loss: 0.307785, W: 0.408918, b: -0.316267\n",
      "step: 500, loss: 0.274571, W: 0.390919, b: -0.188663\n",
      "step: 550, loss: 0.248524, W: 0.374980, b: -0.075662\n",
      "step: 600, loss: 0.228097, W: 0.360865, b: 0.024408\n",
      "step: 650, loss: 0.212078, W: 0.348365, b: 0.113027\n",
      "step: 700, loss: 0.199516, W: 0.337296, b: 0.191504\n",
      "step: 750, loss: 0.189664, W: 0.327493, b: 0.261000\n",
      "step: 800, loss: 0.181938, W: 0.318812, b: 0.322544\n",
      "step: 850, loss: 0.175879, W: 0.311125, b: 0.377045\n",
      "step: 900, loss: 0.171127, W: 0.304317, b: 0.425309\n",
      "step: 950, loss: 0.167401, W: 0.298288, b: 0.468050\n",
      "step: 1000, loss: 0.164478, W: 0.292949, b: 0.505900\n"
     ]
    }
   ],
   "source": [
    "# Run training for the given number of steps\n",
    "for step in range(1,training_steps+1):\n",
    "    run_optimization()\n",
    "\n",
    "    if step%display_step==0:\n",
    "        pred = linear_regression(X)\n",
    "        loss = mean_square(pred,Y)\n",
    "        print(\"step: %i, loss: %f, W: %f, b: %f\" % (step, loss, W.numpy(), b.numpy()))\n",
    "        # print(f'step:{step}, loss:{loss:.f}, W:{W.numpy()}, b:{b.numpy()}')"
   ],
   "metadata": {
    "collapsed": false,
    "pycharm": {
     "name": "#%%\n"
    }
   }
  },
  {
   "cell_type": "code",
   "execution_count": 26,
   "outputs": [],
   "source": [
    "import matplotlib.pyplot as plt"
   ],
   "metadata": {
    "collapsed": false,
    "pycharm": {
     "name": "#%%\n"
    }
   }
  },
  {
   "cell_type": "code",
   "execution_count": 27,
   "outputs": [
    {
     "data": {
      "text/plain": "<Figure size 432x288 with 1 Axes>",
      "image/png": "[encoded data removed]"
     },
     "metadata": {
      "needs_background": "light"
     },
     "output_type": "display_data"
    }
   ],
   "source": [
    "# Graphic display\n",
    "plt.plot(X,Y,'ro',label='Original data')\n",
    "plt.plot(X, np.array(W*X+b),label=\"Fitted line\")\n",
    "plt.legend()\n",
    "plt.show()"
   ],
   "metadata": {
    "collapsed": false,
    "pycharm": {
     "name": "#%%\n"
    }
   }
  }
 ],
 "metadata": {
  "kernelspec": {
   "display_name": "Python 3",
   "language": "python",
   "name": "python3"
  },
  "language_info": {
   "codemirror_mode": {
    "name": "ipython",
    "version": 2
   },
   "file_extension": ".py",
   "mimetype": "text/x-python",
   "name": "python",
   "nbconvert_exporter": "python",
   "pygments_lexer": "ipython2",
   "version": "2.7.6"
  }
 },
 "nbformat": 4,
 "nbformat_minor": 0
}