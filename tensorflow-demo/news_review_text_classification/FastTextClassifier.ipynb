{
 "cells": [
  {
   "cell_type": "code",
   "execution_count": 4,
   "metadata": {
    "collapsed": true
   },
   "outputs": [
    {
     "name": "stderr",
     "output_type": "stream",
     "text": [
      "Read 31M words\n",
      "Number of words:  5981\n",
      "Number of labels: 14\n",
      "Progress: 100.0% words/sec/thread: 1103529 lr:  0.000000 avg.loss:  0.095071 ETA:   0h 0m 0s\r 6.0% words/sec/thread:  891293 lr:  0.940442 avg.loss:  0.624717 ETA:   0h 0m55sProgress:   9.2% words/sec/thread:  916006 lr:  0.907672 avg.loss:  0.517150 ETA:   0h 0m52sProgress:  28.3% words/sec/thread: 1007965 lr:  0.717057 avg.loss:  0.252702 ETA:   0h 0m37sProgress:  34.3% words/sec/thread: 1039016 lr:  0.657232 avg.loss:  0.217621 ETA:   0h 0m33sProgress:  51.5% words/sec/thread: 1099801 lr:  0.485496 avg.loss:  0.164654 ETA:   0h 0m23sProgress:  65.5% words/sec/thread: 1111766 lr:  0.345276 avg.loss:  0.136879 ETA:   0h 0m16sProgress:  85.4% words/sec/thread: 1118486 lr:  0.146460 avg.loss:  0.109416 ETA:   0h 0m 6s 91.1% words/sec/thread: 1113004 lr:  0.089070 avg.loss:  0.103481 ETA:   0h 0m 4sProgress:  95.4% words/sec/thread: 1109328 lr:  0.045870 avg.loss:  0.099303 ETA:   0h 0m 2sProgress: 100.0% words/sec/thread: 1104080 lr: -0.000022 avg.loss:  0.095071 ETA:   0h 0m 0s\n"
     ]
    },
    {
     "name": "stdout",
     "output_type": "stream",
     "text": [
      "0.8745324875810386\n"
     ]
    }
   ],
   "source": [
    "import pandas as pd\n",
    "from sklearn.metrics import f1_score\n",
    "\n",
    "train_df = pd.read_csv('../../data/train_set.csv',sep='\\t',nrows=55000)\n",
    "train_df['label_ft'] = '__label__'+train_df['label'].astype(str)\n",
    "train_df[['text','label_ft']].iloc[:-20000].to_csv('train.csv',index=None,header=None,sep='\\t')\n",
    "\n",
    "import fasttext\n",
    "model =fasttext.train_supervised('train.csv',lr=1.0,wordNgrams=2,verbose=2,minCount=1,epoch=25,loss='hs')\n",
    "val_pred=[model.predict(x)[0][0].split('__')[-1] for x in train_df.iloc[-20000:]['text']]\n",
    "print(f1_score(train_df['label'].values[-20000:].astype(str), val_pred, average='macro'))\n"
   ]
  }
 ],
 "metadata": {
  "kernelspec": {
   "display_name": "Python 3",
   "language": "python",
   "name": "python3"
  },
  "language_info": {
   "codemirror_mode": {
    "name": "ipython",
    "version": 2
   },
   "file_extension": ".py",
   "mimetype": "text/x-python",
   "name": "python",
   "nbconvert_exporter": "python",
   "pygments_lexer": "ipython2",
   "version": "2.7.6"
  }
 },
 "nbformat": 4,
 "nbformat_minor": 0
}