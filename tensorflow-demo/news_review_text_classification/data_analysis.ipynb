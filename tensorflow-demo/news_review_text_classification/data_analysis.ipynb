{
 "cells": [
  {
   "cell_type": "code",
   "execution_count": 4,
   "metadata": {
    "collapsed": true
   },
   "outputs": [],
   "source": [
    "import matplotlib.pyplot as plt\n",
    "import pandas as pd\n",
    "train_df = pd.read_csv('../data/train_set.csv',sep='\\t',nrows=100)"
   ]
  },
  {
   "cell_type": "code",
   "execution_count": 5,
   "outputs": [
    {
     "data": {
      "text/plain": "   label                                               text\n0      2  2967 6758 339 2021 1854 3731 4109 3792 4149 15...\n1     11  4464 486 6352 5619 2465 4802 1452 3137 5778 54...\n2      3  7346 4068 5074 3747 5681 6093 1777 2226 7354 6...\n3      2  7159 948 4866 2109 5520 2490 211 3956 5520 549...\n4      3  3646 3055 3055 2490 4659 6065 3370 5814 2465 5...",
      "text/html": "<div>\n<style scoped>\n    .dataframe tbody tr th:only-of-type {\n        vertical-align: middle;\n    }\n\n    .dataframe tbody tr th {\n        vertical-align: top;\n    }\n\n    .dataframe thead th {\n        text-align: right;\n    }\n</style>\n<table border=\"1\" class=\"dataframe\">\n  <thead>\n    <tr style=\"text-align: right;\">\n      <th></th>\n      <th>label</th>\n      <th>text</th>\n    </tr>\n  </thead>\n  <tbody>\n    <tr>\n      <th>0</th>\n      <td>2</td>\n      <td>2967 6758 339 2021 1854 3731 4109 3792 4149 15...</td>\n    </tr>\n    <tr>\n      <th>1</th>\n      <td>11</td>\n      <td>4464 486 6352 5619 2465 4802 1452 3137 5778 54...</td>\n    </tr>\n    <tr>\n      <th>2</th>\n      <td>3</td>\n      <td>7346 4068 5074 3747 5681 6093 1777 2226 7354 6...</td>\n    </tr>\n    <tr>\n      <th>3</th>\n      <td>2</td>\n      <td>7159 948 4866 2109 5520 2490 211 3956 5520 549...</td>\n    </tr>\n    <tr>\n      <th>4</th>\n      <td>3</td>\n      <td>3646 3055 3055 2490 4659 6065 3370 5814 2465 5...</td>\n    </tr>\n  </tbody>\n</table>\n</div>"
     },
     "execution_count": 5,
     "metadata": {},
     "output_type": "execute_result"
    }
   ],
   "source": [
    "train_df.head()"
   ],
   "metadata": {
    "collapsed": false,
    "pycharm": {
     "name": "#%%\n"
    }
   }
  },
  {
   "cell_type": "code",
   "execution_count": 10,
   "outputs": [
    {
     "name": "stdout",
     "output_type": "stream",
     "text": [
      "count     100.000000\n",
      "mean      872.320000\n",
      "std       923.138191\n",
      "min        64.000000\n",
      "25%       359.500000\n",
      "50%       598.000000\n",
      "75%      1058.000000\n",
      "max      7125.000000\n",
      "Name: text_len, dtype: float64\n"
     ]
    }
   ],
   "source": [
    "%matplotlib inline\n",
    "train_df['text_len'] = train_df['text'].apply(lambda x:len(x.split(' ')))\n",
    "print(train_df['text_len'].describe())"
   ],
   "metadata": {
    "collapsed": false,
    "pycharm": {
     "name": "#%%\n"
    }
   }
  },
  {
   "cell_type": "code",
   "execution_count": 15,
   "outputs": [
    {
     "data": {
      "text/plain": "Text(0.5, 1.0, 'Histogram of char count')"
     },
     "execution_count": 15,
     "metadata": {},
     "output_type": "execute_result"
    },
    {
     "data": {
      "text/plain": "<Figure size 432x288 with 1 Axes>",
      "image/png": "[encoded data removed]"
     },
     "metadata": {
      "needs_background": "light"
     },
     "output_type": "display_data"
    }
   ],
   "source": [
    "# _  = plt.hist(train_df['text_len'],bins=200)\n",
    "# plt.xlabel('Text char count')\n",
    "# plt.title('Histogram of char count')\n",
    "\n",
    "train_df['text_len'].plot(kind='hist',bins=200)\n",
    "plt.xlabel('Text char count')\n",
    "plt.ylabel('')\n",
    "plt.title('Histogram of char count')"
   ],
   "metadata": {
    "collapsed": false,
    "pycharm": {
     "name": "#%%\n"
    }
   }
  },
  {
   "cell_type": "code",
   "execution_count": 12,
   "outputs": [
    {
     "data": {
      "text/plain": "Text(0.5, 0, 'category')"
     },
     "execution_count": 12,
     "metadata": {},
     "output_type": "execute_result"
    },
    {
     "data": {
      "text/plain": "<Figure size 432x288 with 1 Axes>",
      "image/png": "[encoded data removed]"
     },
     "metadata": {
      "needs_background": "light"
     },
     "output_type": "display_data"
    }
   ],
   "source": [
    "train_df['label'].value_counts().plot(kind='bar')\n",
    "plt.title('News class count')\n",
    "plt.xlabel('category')"
   ],
   "metadata": {
    "collapsed": false,
    "pycharm": {
     "name": "#%%\n"
    }
   }
  },
  {
   "cell_type": "code",
   "execution_count": 16,
   "outputs": [
    {
     "name": "stdout",
     "output_type": "stream",
     "text": [
      "2493\n",
      "('3750', 3702)\n",
      "('5034', 1)\n"
     ]
    }
   ],
   "source": [
    "from collections import Counter\n",
    "# Counter计数器：统计可迭代序列中每个元素出现的次数\n",
    "# list_01 = [1,9,9,5,0,8,0,9]  # input\n",
    "# print(Counter(list_01))  #Counter({9: 3, 0: 2, 1: 1, 5: 1, 8: 1})\n",
    "all_lines = ''.join(list(train_df['text']))\n",
    "word_count = Counter(all_lines.split(\" \"))\n",
    "word_count = sorted(word_count.items(),key=lambda d:d[1],reverse=True)\n",
    "\n",
    "print(len(word_count))\n",
    "print(word_count[0])\n",
    "print(word_count[-1])"
   ],
   "metadata": {
    "collapsed": false,
    "pycharm": {
     "name": "#%%\n"
    }
   }
  },
  {
   "cell_type": "code",
   "execution_count": 31,
   "outputs": [
    {
     "name": "stdout",
     "output_type": "stream",
     "text": [
      "('900', 99)\n",
      "('3750', 99)\n",
      "('648', 96)\n"
     ]
    }
   ],
   "source": [
    "from collections import Counter\n",
    "\n",
    "def flatten(t):\n",
    "    return [item for sublist in t for item in sublist]\n",
    "\n",
    "train_df['text_unique'] = train_df['text'].apply(lambda x:' '.join(list(set(x.split(' ')))))\n",
    "all_lines = ''.join(list(train_df['text_unique']))\n",
    "word_count = Counter(all_lines.split(\" \"))\n",
    "word_count = sorted(word_count.items(),key=lambda d:int(d[1]),reverse=True)\n",
    "\n",
    "for i in range(3):\n",
    "    print(word_count[i])"
   ],
   "metadata": {
    "collapsed": false,
    "pycharm": {
     "name": "#%%\n"
    }
   }
  },
  {
   "cell_type": "code",
   "execution_count": 33,
   "outputs": [
    {
     "name": "stdout",
     "output_type": "stream",
     "text": [
      "    label                                               text  text_len  \\\n",
      "0       2  2967 6758 339 2021 1854 3731 4109 3792 4149 15...      1057   \n",
      "1      11  4464 486 6352 5619 2465 4802 1452 3137 5778 54...       486   \n",
      "2       3  7346 4068 5074 3747 5681 6093 1777 2226 7354 6...       764   \n",
      "3       2  7159 948 4866 2109 5520 2490 211 3956 5520 549...      1570   \n",
      "4       3  3646 3055 3055 2490 4659 6065 3370 5814 2465 5...       307   \n",
      "..    ...                                                ...       ...   \n",
      "95      7  6065 3370 1519 499 7157 5620 3317 1679 3270 12...      1438   \n",
      "96      1  7256 134 7539 7543 3137 3335 2695 669 3068 333...       136   \n",
      "97      2  7160 5087 2400 4411 7044 1519 7039 2265 408 67...      2159   \n",
      "98      2  507 6981 2999 62 3080 6704 5310 2400 4411 1099...      1190   \n",
      "99      4  3870 3641 6248 913 1866 7495 3648 5370 4333 45...       199   \n",
      "\n",
      "                                          text_unique  words sentence_count  \n",
      "0   1734 3771 6591 5659 7148 2073 4921 6093 1871 1...  {118}          {119}  \n",
      "1   4659 1158 4802 5778 1567 2402 3481 478 5839 40...   {50}           {51}  \n",
      "2   4232 2489 4298 2732 4080 2827 5659 6768 5511 6...   {48}           {49}  \n",
      "3   1734 2489 5793 4080 902 3155 6037 4921 6093 50...  {157}          {158}  \n",
      "4   4659 343 4298 6314 7495 3646 4778 4442 4063 79...   {28}           {29}  \n",
      "..                                                ...    ...            ...  \n",
      "95  1734 2489 4298 3481 2827 6362 6973 2073 6093 1...  {132}          {133}  \n",
      "96  6242 5602 2799 1407 3700 4211 6625 1274 3775 3...    {7}            {8}  \n",
      "97  1734 1542 4576 2827 5659 2073 7255 6093 1871 1...  {195}          {196}  \n",
      "98  1734 4298 7395 3481 4576 5659 902 6093 7255 18...  {133}          {134}  \n",
      "99  5328 4819 7495 2612 2402 1567 3215 478 1699 50...   {24}           {25}  \n",
      "\n",
      "[100 rows x 6 columns]\n"
     ]
    }
   ],
   "source": [
    "# 统计每条评论的句子数\n",
    "train_df['sentence_count'] = train_df['text'].apply(lambda x:{\n",
    "    len([v for v in x.split(' ') if v=='900' or v=='3750' or v=='648'])\n",
    "})\n",
    "print(train_df)"
   ],
   "metadata": {
    "collapsed": false,
    "pycharm": {
     "name": "#%%\n"
    }
   }
  },
  {
   "cell_type": "code",
   "execution_count": null,
   "outputs": [],
   "source": [],
   "metadata": {
    "collapsed": false,
    "pycharm": {
     "name": "#%%\n"
    }
   }
  },
  {
   "cell_type": "code",
   "execution_count": null,
   "outputs": [],
   "source": [],
   "metadata": {
    "collapsed": false,
    "pycharm": {
     "name": "#%%\n"
    }
   }
  }
 ],
 "metadata": {
  "kernelspec": {
   "display_name": "Python 3",
   "language": "python",
   "name": "python3"
  },
  "language_info": {
   "codemirror_mode": {
    "name": "ipython",
    "version": 2
   },
   "file_extension": ".py",
   "mimetype": "text/x-python",
   "name": "python",
   "nbconvert_exporter": "python",
   "pygments_lexer": "ipython2",
   "version": "2.7.6"
  }
 },
 "nbformat": 4,
 "nbformat_minor": 0
}