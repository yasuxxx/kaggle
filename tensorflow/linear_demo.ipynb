{
 "cells": [
  {
   "cell_type": "code",
   "execution_count": 10,
   "metadata": {
    "collapsed": true
   },
   "outputs": [],
   "source": [
    "import tensorflow as tf\n",
    "import numpy as np\n",
    "\n",
    "# 定义模型(线性模型)\n",
    "class Linear(tf.keras.Model):\n",
    "    def __init__(self):\n",
    "        super(Linear,self).__init__()\n",
    "        self.W = tf.Variable(0.1,name='w')\n",
    "        self.B = tf.Variable(0.2,name='b')\n",
    "\n",
    "    def call(self, inputs):\n",
    "        return inputs*self.W+self.B"
   ]
  },
  {
   "cell_type": "code",
   "execution_count": 11,
   "outputs": [],
   "source": [
    "# 定义数据\n",
    "NUM_EXAMPLES = 2000\n",
    "X = tf.random.normal([NUM_EXAMPLES])\n",
    "X_NOISE = tf.random.normal([NUM_EXAMPLES])\n",
    "Y = X*3+0.5+X_NOISE\n",
    "\n",
    "\n",
    "\n",
    "# 定义损失\n",
    "def loss(model,x,y_true):\n",
    "    y_pred =model(x)\n",
    "    loss_value = tf.square(y_true-y_pred)\n",
    "    return tf.reduce_mean(loss_value)\n",
    "\n",
    "\n",
    "\n",
    "# 定义梯度\n",
    "def grad(model,x,y_true):\n",
    "    with tf.GradientTape() as tape:\n",
    "        loss_value = loss(model,x,y_true)\n",
    "    grads = tape.gradient(loss_value,[model.W,model.B])\n",
    "    return grads,loss_value"
   ],
   "metadata": {
    "collapsed": false,
    "pycharm": {
     "name": "#%%\n"
    }
   }
  },
  {
   "cell_type": "code",
   "execution_count": 16,
   "outputs": [
    {
     "name": "stdout",
     "output_type": "stream",
     "text": [
      "initial parameters :\n",
      "w: 0.10000000149011612,b: 0.20000000298023224\n",
      "loss is 9.368374824523926\n",
      "loss is 1.0187251567840576\n",
      "loss is 1.0187251567840576\n",
      "loss is 1.018725037574768\n",
      "loss is 1.018725037574768\n",
      "final parameters:\n",
      "w: 2.975970506668091,b: 0.46349573135375977\n"
     ]
    }
   ],
   "source": [
    "# 定义优化器\n",
    "optimizer = tf.keras.optimizers.Adam(learning_rate=0.01)\n",
    "\n",
    "# 定义训练过程\n",
    "def step(model,x,y_true):\n",
    "    # print(f'w,b s shape is {model.W.shape},{model.B.shape} ')\n",
    "    grads,loss_value = grad(model,x,y_true)\n",
    "    optimizer.apply_gradients(zip(grads,[model.W,model.B]))\n",
    "    return grads,loss_value\n",
    "\n",
    "epochs = 10000\n",
    "linear = Linear()\n",
    "print(f'initial parameters :\\n'\n",
    "      f'w: {linear.W.numpy()},b: {linear.B.numpy()}')\n",
    "for i in range(epochs):\n",
    "    _,loss_value = step(linear,X,Y)\n",
    "    if i%2000==0:\n",
    "        print(f'loss is {loss_value}')\n",
    "print(f'final parameters:\\n'\n",
    "      f'w: {linear.W.numpy()},b: {linear.B.numpy()}')\n"
   ],
   "metadata": {
    "collapsed": false,
    "pycharm": {
     "name": "#%%\n"
    }
   }
  }
 ],
 "metadata": {
  "kernelspec": {
   "display_name": "Python 3",
   "language": "python",
   "name": "python3"
  },
  "language_info": {
   "codemirror_mode": {
    "name": "ipython",
    "version": 2
   },
   "file_extension": ".py",
   "mimetype": "text/x-python",
   "name": "python",
   "nbconvert_exporter": "python",
   "pygments_lexer": "ipython2",
   "version": "2.7.6"
  }
 },
 "nbformat": 4,
 "nbformat_minor": 0
}