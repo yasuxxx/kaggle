{
 "cells": [
  {
   "cell_type": "code",
   "execution_count": null,
   "metadata": {
    "collapsed": true
   },
   "outputs": [],
   "source": []
  },
  {
   "cell_type": "code",
   "execution_count": 1,
   "outputs": [],
   "source": [
    "import tensorflow as tf\n"
   ],
   "metadata": {
    "collapsed": false,
    "pycharm": {
     "name": "#%%\n"
    }
   }
  },
  {
   "cell_type": "code",
   "execution_count": 12,
   "outputs": [],
   "source": [
    "class Encoder(tf.keras.layers.Layer):\n",
    "    def __init__(self,vocab_sz,units):\n",
    "        super(Encoder, self).__init__()\n",
    "        self.embedding = tf.keras.layers.Embedding(\n",
    "            input_dim=vocab_sz,\n",
    "            output_dim=units\n",
    "        )\n",
    "        self.gru = tf.keras.layers.GRU(\n",
    "            units = units,\n",
    "            return_state=True,\n",
    "            return_sequences=True\n",
    "        )\n",
    "\n",
    "    def call(self,x,states):\n",
    "        print(f'before embedding x shape is {x.shape}')\n",
    "        x = self.embedding(x)\n",
    "        print(f'after embedding x shape is {x.shape}')\n",
    "        enc_outputs,output_states = self.gru(\n",
    "            inputs=x,\n",
    "            initial_state=states\n",
    "        )\n",
    "        return enc_outputs,output_states"
   ],
   "metadata": {
    "collapsed": false,
    "pycharm": {
     "name": "#%%\n"
    }
   }
  },
  {
   "cell_type": "code",
   "execution_count": 14,
   "outputs": [
    {
     "name": "stdout",
     "output_type": "stream",
     "text": [
      "before embedding x shape is (64, 10)\n",
      "after embedding x shape is (64, 10, 512)\n"
     ]
    },
    {
     "data": {
      "text/plain": "(TensorShape([64, 10, 512]), TensorShape([64, 512]))"
     },
     "execution_count": 14,
     "metadata": {},
     "output_type": "execute_result"
    }
   ],
   "source": [
    "sample_encoder = Encoder(1000,512)\n",
    "sample_states = tf.random.uniform([64,512])\n",
    "sample_x = tf.random.uniform([64,10])\n",
    "sample_outputs,sample_output_states = sample_encoder(sample_x,sample_states)\n",
    "sample_outputs.shape,sample_output_states.shape"
   ],
   "metadata": {
    "collapsed": false,
    "pycharm": {
     "name": "#%%\n"
    }
   }
  },
  {
   "cell_type": "code",
   "execution_count": 21,
   "outputs": [],
   "source": [
    "class BahdanauAttention(tf.keras.layers.Layer):\n",
    "    def __init__(self,units):\n",
    "        super(BahdanauAttention, self).__init__()\n",
    "        self.W1 = tf.keras.layers.Dense(units)\n",
    "        self.W2 = tf.keras.layers.Dense(units)\n",
    "        self.attention = tf.keras.layers.AdditiveAttention()\n",
    "\n",
    "    def call(self,query,value,mask):\n",
    "        w1_query = self.W1(query)\n",
    "        w2_key = self.W2(value)\n",
    "\n",
    "        query_mask = tf.ones(tf.shape(query)[:-1],dtype=bool)\n",
    "        value_mask = mask\n",
    "        context_vector,attention_weights = self.attention(\n",
    "            inputs=[w1_query,value,w2_key],\n",
    "            mask=[query_mask,value_mask],\n",
    "            return_attention_scores=True\n",
    "        )\n",
    "\n",
    "        return context_vector,attention_weights"
   ],
   "metadata": {
    "collapsed": false,
    "pycharm": {
     "name": "#%%\n"
    }
   }
  },
  {
   "cell_type": "code",
   "execution_count": 22,
   "outputs": [
    {
     "data": {
      "text/plain": "(TensorShape([64, 3, 512]), TensorShape([64, 3, 10]))"
     },
     "execution_count": 22,
     "metadata": {},
     "output_type": "execute_result"
    }
   ],
   "source": [
    "sample_attention = BahdanauAttention(512)\n",
    "\n",
    "sample_context_vector,sample_attention_weights = sample_attention(\n",
    "    tf.random.uniform([64,3,1000]),\n",
    "    tf.random.uniform([64,10,512]),\n",
    "    None\n",
    ")\n",
    "sample_context_vector.shape,sample_attention_weights.shape"
   ],
   "metadata": {
    "collapsed": false,
    "pycharm": {
     "name": "#%%\n"
    }
   }
  }
 ],
 "metadata": {
  "kernelspec": {
   "display_name": "Python 3",
   "language": "python",
   "name": "python3"
  },
  "language_info": {
   "codemirror_mode": {
    "name": "ipython",
    "version": 2
   },
   "file_extension": ".py",
   "mimetype": "text/x-python",
   "name": "python",
   "nbconvert_exporter": "python",
   "pygments_lexer": "ipython2",
   "version": "2.7.6"
  }
 },
 "nbformat": 4,
 "nbformat_minor": 0
}