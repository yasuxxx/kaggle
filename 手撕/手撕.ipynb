{
 "cells": [
  {
   "cell_type": "code",
   "execution_count": 5,
   "metadata": {
    "collapsed": true,
    "pycharm": {
     "name": "#%%\n"
    }
   },
   "outputs": [
    {
     "name": "stdout",
     "output_type": "stream",
     "text": [
      "0.5666666666666667\n",
      "0.5666666666666667\n"
     ]
    }
   ],
   "source": [
    "##### auc\n",
    "# 正样本排在负样本前面的能力\n",
    "# 此时时间复杂度为 n*m\n",
    "def auc(label, pred):\n",
    "     n = len(label)\n",
    "     pos = [i for i in range(n) if label[i] == 1]\n",
    "     neg = [j for j in range(n) if label[j] == 0]\n",
    "     res = 0\n",
    "     for i in pos:\n",
    "         for j in neg:\n",
    "             if pred[i] > pred[j]:\n",
    "                 res += 1\n",
    "             elif pred[i] == pred[j]:\n",
    "                 res += 0.5\n",
    "     return res/(len(pos)*len(neg))\n",
    "\n",
    "def auc2(label, pred, nbins = 100):\n",
    "    # 统计负的所占的计数桶\n",
    "    neg = [0] * nbins\n",
    "    pos = [0] * nbins\n",
    "    res = 0\n",
    "    neg_sum = 0\n",
    "    for k,v in enumerate(pred):\n",
    "        v = int(nbins * v)\n",
    "        if label[k] == 1:\n",
    "            pos[v] += 1\n",
    "        else:\n",
    "            neg[v] += 1\n",
    "\n",
    "    for i in range(nbins):\n",
    "        if pos[i] != 0:\n",
    "            res += pos[i]*neg_sum\n",
    "        if neg[i] != 0:\n",
    "            res += 0.5*neg[i]*pos[i]\n",
    "            neg_sum += neg[i]\n",
    "    return res/(sum(neg)*sum(pos))\n",
    "\n",
    "label = [1, 0, 0, 0, 1, 0, 1, 0]\n",
    "pre = [0.9, 0.8, 0.3, 0.1, 0.4, 0.9, 0.66, 0.7]\n",
    "print(auc(label, pre))\n",
    "print(auc2(label, pre))"
   ]
  },
  {
   "cell_type": "markdown",
   "source": [
    "######## Kmeans算法"
   ],
   "metadata": {
    "collapsed": false,
    "pycharm": {
     "name": "#%% md\n"
    }
   }
  },
  {
   "cell_type": "code",
   "execution_count": 8,
   "outputs": [],
   "source": [
    "import numpy as np\n",
    "\n",
    "def get_distance(a,b):\n",
    "    return np.linalg.norm(a-b)\n",
    "\n",
    "class Kmeans(object):\n",
    "    def __init__(self,k,tolerance,iterators):\n",
    "        self.k = k\n",
    "        self.tolerance = tolerance\n",
    "        self.iterators = iterators\n",
    "        self.centers = []\n",
    "\n",
    "    def fit(self,datas):\n",
    "        cluster = [[] for _ in range(self.k)]\n",
    "        for i in range(self.k):\n",
    "            self.centers.append(datas[i])\n",
    "        for j in range(self.iterators):\n",
    "            # 每个点所属的cluster\n",
    "            for data in datas:\n",
    "                # 找到聚类中心\n",
    "                min_center_ind = self.centers.index(min([get_distance(data,center) for center in self.centers]))\n",
    "                # min_center_ind,min_dis = 0,get_distance(data,self.centers[0])\n",
    "                # for center_ind,center in enumerate(self.centers):\n",
    "                #     dis = get_distance(data,center)\n",
    "                #     if dis<min_dis:\n",
    "                #         min_center_ind, min_dis = center_ind, dis\n",
    "                cluster[min_center_ind].append(data)\n",
    "            # 找每个cluster的新质点\n",
    "            pre_center = self.centers[:]\n",
    "            for i in range(self.k):\n",
    "                new_center = np.average(cluster[i], axis=0)\n",
    "                self.centers[i] = new_center\n",
    "            flag = True\n",
    "            if np.sum(np.array(pre_center)-np.array(self.centers)/np.array(pre_center)*100)>self.tolerance:\n",
    "                flag = False\n",
    "            if flag:\n",
    "                break\n",
    "\n",
    "    def predict(self, data):\n",
    "        return self.centers.index(min([get_distance(data,center) for center in self.centers]))\n",
    "\n"
   ],
   "metadata": {
    "collapsed": false,
    "pycharm": {
     "name": "#%%\n"
    }
   }
  },
  {
   "cell_type": "markdown",
   "source": [
    "####### KNN算法"
   ],
   "metadata": {
    "collapsed": false,
    "pycharm": {
     "name": "#%% md\n"
    }
   }
  },
  {
   "cell_type": "code",
   "execution_count": 11,
   "outputs": [
    {
     "name": "stdout",
     "output_type": "stream",
     "text": [
      "(1, 3)\n",
      "(2, 1)\n",
      "[[ 5  7  9]\n",
      " [ 7  9 11]]\n"
     ]
    }
   ],
   "source": [
    "####### knn\n",
    "class Knn(object):\n",
    "    def __init__(self):\n",
    "        ...\n",
    "    def fit(self,X,Y,k):\n",
    "        self.X_train = X\n",
    "        self.Y_train = Y\n",
    "        self.k = k\n",
    "\n",
    "    def predict(self,X_test):\n",
    "        d1 = -2*np.dot(X_test,self.X_train.T)\n",
    "        d2 = np.sum(np.square(X_test),axis=1,keepdims=True)\n",
    "        d3 = np.sum(np.square(self.X_train),axis=1)\n",
    "        dis = d1+d2+d3    # 这里的dis是一个矩阵，shape是 n_test*m_train\n",
    "\n",
    "        y_pred = np.zeros(X_test.shape[0])\n",
    "        for i in range(X_test.shape[0]):\n",
    "            k_close = np.argsort(dis[i])[:self.k]\n",
    "            k_close_label = self.Y_train[k_close]\n",
    "            y_pred[i] = np.argmax(np.bincount(k_close_label))\n",
    "\n",
    "        return y_pred"
   ],
   "metadata": {
    "collapsed": false,
    "pycharm": {
     "name": "#%%\n"
    }
   }
  },
  {
   "cell_type": "code",
   "execution_count": 15,
   "outputs": [
    {
     "ename": "TypeError",
     "evalue": "'<' not supported between instances of 'dict' and 'str'",
     "output_type": "error",
     "traceback": [
      "\u001B[0;31m---------------------------------------------------------------------------\u001B[0m",
      "\u001B[0;31mTypeError\u001B[0m                                 Traceback (most recent call last)",
      "Input \u001B[0;32mIn [15]\u001B[0m, in \u001B[0;36m<cell line: 3>\u001B[0;34m()\u001B[0m\n\u001B[1;32m      1\u001B[0m \u001B[38;5;28;01mimport\u001B[39;00m \u001B[38;5;21;01mheapq\u001B[39;00m\n\u001B[1;32m      2\u001B[0m arr \u001B[38;5;241m=\u001B[39m [(\u001B[38;5;241m3\u001B[39m,{\u001B[38;5;124m\"\u001B[39m\u001B[38;5;124ma\u001B[39m\u001B[38;5;124m\"\u001B[39m:\u001B[38;5;124m'\u001B[39m\u001B[38;5;124m-1\u001B[39m\u001B[38;5;124m'\u001B[39m}),(\u001B[38;5;241m4\u001B[39m,\u001B[38;5;124m'\u001B[39m\u001B[38;5;124mb\u001B[39m\u001B[38;5;124m'\u001B[39m),(\u001B[38;5;241m3\u001B[39m,\u001B[38;5;124m'\u001B[39m\u001B[38;5;124mc\u001B[39m\u001B[38;5;124m'\u001B[39m)]\n\u001B[0;32m----> 3\u001B[0m \u001B[43mheapq\u001B[49m\u001B[38;5;241;43m.\u001B[39;49m\u001B[43mheapify\u001B[49m\u001B[43m(\u001B[49m\u001B[43marr\u001B[49m\u001B[43m)\u001B[49m\n\u001B[1;32m      4\u001B[0m \u001B[38;5;28mprint\u001B[39m(arr)\n",
      "\u001B[0;31mTypeError\u001B[0m: '<' not supported between instances of 'dict' and 'str'"
     ]
    }
   ],
   "source": [
    "import heapq\n",
    "arr = [(3,{\"a\":'-1'}),(4,'b'),(3,'c')]\n",
    "heapq.heapify(arr)\n",
    "print(arr)"
   ],
   "metadata": {
    "collapsed": false,
    "pycharm": {
     "name": "#%%\n"
    }
   }
  }
 ],
 "metadata": {
  "kernelspec": {
   "display_name": "Python 3",
   "language": "python",
   "name": "python3"
  },
  "language_info": {
   "codemirror_mode": {
    "name": "ipython",
    "version": 2
   },
   "file_extension": ".py",
   "mimetype": "text/x-python",
   "name": "python",
   "nbconvert_exporter": "python",
   "pygments_lexer": "ipython2",
   "version": "2.7.6"
  }
 },
 "nbformat": 4,
 "nbformat_minor": 0
}