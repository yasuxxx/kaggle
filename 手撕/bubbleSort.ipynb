{
 "cells": [
  {
   "cell_type": "code",
   "execution_count": 2,
   "metadata": {
    "collapsed": true
   },
   "outputs": [
    {
     "name": "stdout",
     "output_type": "stream",
     "text": [
      "排序前---[7, 6, 5, 4, 3]\n",
      "排序后---[3, 4, 5, 6, 7]\n"
     ]
    }
   ],
   "source": [
    "def sort(arr):\n",
    "    n = len(arr)\n",
    "    for i1 in range(n):\n",
    "        for i2 in range(i1+1,n):\n",
    "            if arr[i2]<arr[i1]:\n",
    "                arr[i1],arr[i2] = arr[i2], arr[i1]\n",
    "arr = [7,6,5,4,3]\n",
    "print(f'排序前---{arr}')\n",
    "sort(arr)\n",
    "print(f'排序后---{arr}')\n"
   ]
  }
 ],
 "metadata": {
  "kernelspec": {
   "display_name": "Python 3",
   "language": "python",
   "name": "python3"
  },
  "language_info": {
   "codemirror_mode": {
    "name": "ipython",
    "version": 2
   },
   "file_extension": ".py",
   "mimetype": "text/x-python",
   "name": "python",
   "nbconvert_exporter": "python",
   "pygments_lexer": "ipython2",
   "version": "2.7.6"
  }
 },
 "nbformat": 4,
 "nbformat_minor": 0
}